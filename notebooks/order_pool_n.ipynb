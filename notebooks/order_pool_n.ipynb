{
 "cells": [
  {
   "cell_type": "code",
   "execution_count": 15,
   "metadata": {},
   "outputs": [],
   "source": [
    "import pandas as pd\n",
    "import numpy as np\n",
    "import matplotlib.pyplot as plt\n",
    "import seaborn as sns\n",
    "from wagonworks.get_data import get_day_data\n",
    "from wagonworks.utils import format_date, format_time\n",
    "import datetime"
   ]
  },
  {
   "cell_type": "code",
   "execution_count": 6,
   "metadata": {},
   "outputs": [],
   "source": [
    "#Get all the orders of a day\n",
    "jan_day = get_day_data('2020-01-06')\n",
    "# jan_day"
   ]
  },
  {
   "cell_type": "code",
   "execution_count": 8,
   "metadata": {},
   "outputs": [],
   "source": [
    "#select orders with same_day flag\n",
    "same_day_df = jan_day[jan_day['Same_Day_Flag'] == 'X'][['Del_NumA','SKU_A','Act_Goods_Issue_Qty_SKU','Del_Creat_DateTime']]"
   ]
  },
  {
   "cell_type": "code",
   "execution_count": 9,
   "metadata": {},
   "outputs": [
    {
     "data": {
      "text/html": [
       "<div>\n",
       "<style scoped>\n",
       "    .dataframe tbody tr th:only-of-type {\n",
       "        vertical-align: middle;\n",
       "    }\n",
       "\n",
       "    .dataframe tbody tr th {\n",
       "        vertical-align: top;\n",
       "    }\n",
       "\n",
       "    .dataframe thead th {\n",
       "        text-align: right;\n",
       "    }\n",
       "</style>\n",
       "<table border=\"1\" class=\"dataframe\">\n",
       "  <thead>\n",
       "    <tr style=\"text-align: right;\">\n",
       "      <th></th>\n",
       "      <th>Del_NumA</th>\n",
       "      <th>SKU_A</th>\n",
       "      <th>Act_Goods_Issue_Qty_SKU</th>\n",
       "      <th>Del_Creat_DateTime</th>\n",
       "      <th>Hour</th>\n",
       "    </tr>\n",
       "  </thead>\n",
       "  <tbody>\n",
       "    <tr>\n",
       "      <th>4078</th>\n",
       "      <td>TEST09340346ZA</td>\n",
       "      <td>ZENE07333051</td>\n",
       "      <td>1</td>\n",
       "      <td>2020-01-06 11:41:14</td>\n",
       "      <td>11</td>\n",
       "    </tr>\n",
       "    <tr>\n",
       "      <th>15491</th>\n",
       "      <td>TEST09928446ZA</td>\n",
       "      <td>ZJBFZKT18988</td>\n",
       "      <td>1</td>\n",
       "      <td>2020-01-06 15:11:00</td>\n",
       "      <td>15</td>\n",
       "    </tr>\n",
       "    <tr>\n",
       "      <th>15492</th>\n",
       "      <td>TEST09928446ZA</td>\n",
       "      <td>ZJBFZ2510887</td>\n",
       "      <td>6</td>\n",
       "      <td>2020-01-06 15:11:00</td>\n",
       "      <td>15</td>\n",
       "    </tr>\n",
       "    <tr>\n",
       "      <th>16102</th>\n",
       "      <td>TEST09928446ZA</td>\n",
       "      <td>Z3M6MIA25425</td>\n",
       "      <td>1</td>\n",
       "      <td>2020-01-06 15:11:00</td>\n",
       "      <td>15</td>\n",
       "    </tr>\n",
       "    <tr>\n",
       "      <th>16103</th>\n",
       "      <td>TEST09928446ZA</td>\n",
       "      <td>ZBI93AS40806</td>\n",
       "      <td>3</td>\n",
       "      <td>2020-01-06 15:11:00</td>\n",
       "      <td>15</td>\n",
       "    </tr>\n",
       "    <tr>\n",
       "      <th>...</th>\n",
       "      <td>...</td>\n",
       "      <td>...</td>\n",
       "      <td>...</td>\n",
       "      <td>...</td>\n",
       "      <td>...</td>\n",
       "    </tr>\n",
       "    <tr>\n",
       "      <th>324640</th>\n",
       "      <td>TEST09027646ZA</td>\n",
       "      <td>ZAC302949082</td>\n",
       "      <td>1</td>\n",
       "      <td>2020-01-06 09:51:04</td>\n",
       "      <td>9</td>\n",
       "    </tr>\n",
       "    <tr>\n",
       "      <th>324641</th>\n",
       "      <td>TEST09027646ZA</td>\n",
       "      <td>ZSA300152267</td>\n",
       "      <td>1</td>\n",
       "      <td>2020-01-06 09:51:04</td>\n",
       "      <td>9</td>\n",
       "    </tr>\n",
       "    <tr>\n",
       "      <th>324642</th>\n",
       "      <td>TEST09027646ZA</td>\n",
       "      <td>ZJB18BK46482</td>\n",
       "      <td>1</td>\n",
       "      <td>2020-01-06 09:51:04</td>\n",
       "      <td>9</td>\n",
       "    </tr>\n",
       "    <tr>\n",
       "      <th>324643</th>\n",
       "      <td>TEST09027646ZA</td>\n",
       "      <td>ZORD30126216</td>\n",
       "      <td>4</td>\n",
       "      <td>2020-01-06 09:51:04</td>\n",
       "      <td>9</td>\n",
       "    </tr>\n",
       "    <tr>\n",
       "      <th>324644</th>\n",
       "      <td>TEST09027646ZA</td>\n",
       "      <td>ZIA447012837</td>\n",
       "      <td>4</td>\n",
       "      <td>2020-01-06 09:51:04</td>\n",
       "      <td>9</td>\n",
       "    </tr>\n",
       "  </tbody>\n",
       "</table>\n",
       "<p>2147 rows × 5 columns</p>\n",
       "</div>"
      ],
      "text/plain": [
       "              Del_NumA         SKU_A  Act_Goods_Issue_Qty_SKU  \\\n",
       "4078    TEST09340346ZA  ZENE07333051                        1   \n",
       "15491   TEST09928446ZA  ZJBFZKT18988                        1   \n",
       "15492   TEST09928446ZA  ZJBFZ2510887                        6   \n",
       "16102   TEST09928446ZA  Z3M6MIA25425                        1   \n",
       "16103   TEST09928446ZA  ZBI93AS40806                        3   \n",
       "...                ...           ...                      ...   \n",
       "324640  TEST09027646ZA  ZAC302949082                        1   \n",
       "324641  TEST09027646ZA  ZSA300152267                        1   \n",
       "324642  TEST09027646ZA  ZJB18BK46482                        1   \n",
       "324643  TEST09027646ZA  ZORD30126216                        4   \n",
       "324644  TEST09027646ZA  ZIA447012837                        4   \n",
       "\n",
       "        Del_Creat_DateTime  Hour  \n",
       "4078   2020-01-06 11:41:14    11  \n",
       "15491  2020-01-06 15:11:00    15  \n",
       "15492  2020-01-06 15:11:00    15  \n",
       "16102  2020-01-06 15:11:00    15  \n",
       "16103  2020-01-06 15:11:00    15  \n",
       "...                    ...   ...  \n",
       "324640 2020-01-06 09:51:04     9  \n",
       "324641 2020-01-06 09:51:04     9  \n",
       "324642 2020-01-06 09:51:04     9  \n",
       "324643 2020-01-06 09:51:04     9  \n",
       "324644 2020-01-06 09:51:04     9  \n",
       "\n",
       "[2147 rows x 5 columns]"
      ]
     },
     "execution_count": 9,
     "metadata": {},
     "output_type": "execute_result"
    }
   ],
   "source": [
    "#Get orders by hour\n",
    "same_day_df['Hour'] = same_day_df['Del_Creat_DateTime'].dt.hour\n",
    "same_day_df"
   ]
  },
  {
   "cell_type": "code",
   "execution_count": 10,
   "metadata": {},
   "outputs": [
    {
     "data": {
      "text/plain": [
       "6"
      ]
     },
     "execution_count": 10,
     "metadata": {},
     "output_type": "execute_result"
    }
   ],
   "source": [
    "orders_time = same_day_df['Hour'].min()\n",
    "orders_time"
   ]
  },
  {
   "cell_type": "code",
   "execution_count": 11,
   "metadata": {},
   "outputs": [],
   "source": [
    "hour_df = same_day_df[same_day_df['Hour'] == orders_time].index"
   ]
  },
  {
   "cell_type": "code",
   "execution_count": 12,
   "metadata": {},
   "outputs": [
    {
     "data": {
      "text/plain": [
       "Int64Index([ 44284, 194099, 194100, 194101, 194102, 194105, 194106, 194107,\n",
       "            194108, 194109, 194110, 194111, 194112, 194113, 194114, 194115,\n",
       "            194116, 194117, 194118, 194119, 194120, 194121, 194122, 194123,\n",
       "            194124, 194125, 194126, 194127, 194128, 194152, 194153, 194154,\n",
       "            194155, 194156, 194159, 194160, 194161, 194162, 194163, 194166,\n",
       "            194167, 194168, 194169, 194170, 194171, 194172, 194173, 194174,\n",
       "            194175, 194210, 194211, 206289, 206290, 206291, 206292, 206293,\n",
       "            206294, 206295, 206296, 206297, 206298, 206299, 206309, 206310,\n",
       "            206330],\n",
       "           dtype='int64')"
      ]
     },
     "execution_count": 12,
     "metadata": {},
     "output_type": "execute_result"
    }
   ],
   "source": [
    "hour_df"
   ]
  },
  {
   "cell_type": "code",
   "execution_count": 1,
   "metadata": {},
   "outputs": [],
   "source": [
    "def order_pool_ui(csv):\n",
    "    \n",
    "    # read in csv file as a df\n",
    "    single_df = pd.read_csv(csv, low_memory = False)\n",
    "\n",
    "    # format date columns\n",
    "    single_df.loc[:,'Plan_GI_Date'] = format_date(single_df, date_col ='Plan_GI_Date')\n",
    "    single_df.loc[:,'Act_GI_Date'] = format_date(single_df, date_col ='Act_GI_Date')\n",
    "    single_df.loc[:,'Del_Creat_Date'] = format_date(single_df, date_col ='Del_Creat_Date')\n",
    "\n",
    "    # format date columns\n",
    "    single_df.loc[:,'Del_Creat_Time'] = format_time(single_df, time_col = 'Del_Creat_Time')\n",
    "    \n",
    "    # creating a loop variable to drop done orders\n",
    "    loop_dataframe = single_df.copy()\n",
    "    orders_list = []\n",
    "    \n",
    "    while len(loop_dataframe) > 0:\n",
    "\n",
    "        #condition to prioritise same day orders\n",
    "        if len(loop_dataframe[loop_dataframe['Same_Day_Flag'] == 'X']) > 0:\n",
    "            day_flag = loop_dataframe[loop_dataframe['Same_Day_Flag'] == 'X'][['Del_NumA','SKU_A','Act_Goods_Issue_Qty_SKU','Del_Creat_DateTime', 'Same_Day_Flag']]\n",
    "        else:\n",
    "            day_flag = loop_dataframe[loop_dataframe['Same_Day_Flag'] != 'X'][['Del_NumA','SKU_A','Act_Goods_Issue_Qty_SKU','Del_Creat_DateTime', 'Same_Day_Flag']]\n",
    "\n",
    "        #select orders of the first available hour\n",
    "        day_flag['Hour'] = day_flag['Del_Creat_DateTime'].dt.hour\n",
    "        orders_time = day_flag['Hour'].min()\n",
    "        hour_df = day_flag[day_flag['Hour'] == orders_time]\n",
    "        hour_df_index = day_flag[day_flag['Hour'] == orders_time].index\n",
    "\n",
    "        #create list of dataframes to be sent to batch\n",
    "        loop_dataframe.drop(hour_df_index, axis = 0, inplace = True)\n",
    "        hour_df.reset_index(drop = True, inplace = True)\n",
    "        orders_list.append(hour_df)\n",
    "\n",
    "    return orders_list"
   ]
  },
  {
   "cell_type": "code",
   "execution_count": null,
   "metadata": {},
   "outputs": [],
   "source": []
  }
 ],
 "metadata": {
  "kernelspec": {
   "display_name": "Python 3",
   "language": "python",
   "name": "python3"
  },
  "language_info": {
   "codemirror_mode": {
    "name": "ipython",
    "version": 3
   },
   "file_extension": ".py",
   "mimetype": "text/x-python",
   "name": "python",
   "nbconvert_exporter": "python",
   "pygments_lexer": "ipython3",
   "version": "3.8.5"
  },
  "toc": {
   "base_numbering": 1,
   "nav_menu": {},
   "number_sections": true,
   "sideBar": true,
   "skip_h1_title": false,
   "title_cell": "Table of Contents",
   "title_sidebar": "Contents",
   "toc_cell": false,
   "toc_position": {},
   "toc_section_display": true,
   "toc_window_display": false
  },
  "varInspector": {
   "cols": {
    "lenName": 16,
    "lenType": 16,
    "lenVar": 40
   },
   "kernels_config": {
    "python": {
     "delete_cmd_postfix": "",
     "delete_cmd_prefix": "del ",
     "library": "var_list.py",
     "varRefreshCmd": "print(var_dic_list())"
    },
    "r": {
     "delete_cmd_postfix": ") ",
     "delete_cmd_prefix": "rm(",
     "library": "var_list.r",
     "varRefreshCmd": "cat(var_dic_list()) "
    }
   },
   "types_to_exclude": [
    "module",
    "function",
    "builtin_function_or_method",
    "instance",
    "_Feature"
   ],
   "window_display": false
  }
 },
 "nbformat": 4,
 "nbformat_minor": 4
}
