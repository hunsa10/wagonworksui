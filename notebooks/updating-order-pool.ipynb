{
 "cells": [
  {
   "cell_type": "markdown",
   "id": "mature-zoning",
   "metadata": {},
   "source": [
    "### Test updated order pool"
   ]
  },
  {
   "cell_type": "code",
   "execution_count": 1,
   "id": "immediate-modern",
   "metadata": {},
   "outputs": [],
   "source": [
    "from wagonworksui.order_pool import order_pool_ui\n",
    "import pandas as pd"
   ]
  },
  {
   "cell_type": "code",
   "execution_count": 2,
   "id": "known-spectacular",
   "metadata": {},
   "outputs": [],
   "source": [
    "csv = '../raw_data/day_data_sample_1.csv'"
   ]
  },
  {
   "cell_type": "code",
   "execution_count": 7,
   "id": "precious-rubber",
   "metadata": {},
   "outputs": [],
   "source": [
    "# same_day_df = pd.read_csv('../raw_data/day_data_sample_1.csv')"
   ]
  },
  {
   "cell_type": "code",
   "execution_count": 8,
   "id": "seventh-harvest",
   "metadata": {},
   "outputs": [],
   "source": [
    "# same_day_df[same_day_df['Same_Day_Flag'] == 'X']"
   ]
  },
  {
   "cell_type": "code",
   "execution_count": 3,
   "id": "governmental-kernel",
   "metadata": {},
   "outputs": [
    {
     "data": {
      "text/plain": [
       "[          Del_Number           SKU  Act_Goods_Issue_Qty_SKU\n",
       " 2675  TEST80803947ZA  ZEPSLBK41616                        1\n",
       " 2697  TEST85562847ZA  ZKES0AS27293                        1\n",
       " 3916  TEST88980047ZA   ZSGE0TB2277                        1\n",
       " 4678  TEST88969047ZA  ZECK5OR51820                        1\n",
       " 4694  TEST88972347ZA  ZEDLADD17761                        1\n",
       " 4717  TEST88975047ZA  ZECK5YL35011                        1\n",
       " 4718  TEST88975047ZA  ZECK5BL48705                        1\n",
       " 4719  TEST88975047ZA   ZECK5PK9463                        1\n",
       " 4720  TEST88975047ZA  ZECK5OR51820                        1\n",
       " 5499  TEST90463047ZA  ZEN900034005                       20\n",
       " 5513  TEST90462547ZA  ZAV921725959                       18\n",
       " 5514  TEST90462547ZA  ZEN900034005                       20\n",
       " 8015  TEST90473547ZA  ZSYCBGY19461                        1\n",
       " 8108  TEST91378547ZA  ZLA864917563                        1]"
      ]
     },
     "execution_count": 3,
     "metadata": {},
     "output_type": "execute_result"
    }
   ],
   "source": [
    "order_pool_ui(csv, same_day=True)"
   ]
  },
  {
   "cell_type": "code",
   "execution_count": 11,
   "id": "piano-protection",
   "metadata": {},
   "outputs": [
    {
     "data": {
      "text/html": [
       "<div>\n",
       "<style scoped>\n",
       "    .dataframe tbody tr th:only-of-type {\n",
       "        vertical-align: middle;\n",
       "    }\n",
       "\n",
       "    .dataframe tbody tr th {\n",
       "        vertical-align: top;\n",
       "    }\n",
       "\n",
       "    .dataframe thead th {\n",
       "        text-align: right;\n",
       "    }\n",
       "</style>\n",
       "<table border=\"1\" class=\"dataframe\">\n",
       "  <thead>\n",
       "    <tr style=\"text-align: right;\">\n",
       "      <th></th>\n",
       "      <th>Del_Number</th>\n",
       "      <th>SKU</th>\n",
       "      <th>Act_Goods_Issue_Qty_SKU</th>\n",
       "    </tr>\n",
       "  </thead>\n",
       "  <tbody>\n",
       "    <tr>\n",
       "      <th>0</th>\n",
       "      <td>TEST93904247ZA</td>\n",
       "      <td>ZCSCELS48323</td>\n",
       "      <td>1</td>\n",
       "    </tr>\n",
       "    <tr>\n",
       "      <th>1</th>\n",
       "      <td>TEST93908047ZA</td>\n",
       "      <td>ZSY265034845</td>\n",
       "      <td>1</td>\n",
       "    </tr>\n",
       "    <tr>\n",
       "      <th>2</th>\n",
       "      <td>TEST93908047ZA</td>\n",
       "      <td>ZINMAMA12962</td>\n",
       "      <td>1</td>\n",
       "    </tr>\n",
       "    <tr>\n",
       "      <th>3</th>\n",
       "      <td>TEST93908447ZA</td>\n",
       "      <td>ZRW720124768</td>\n",
       "      <td>6</td>\n",
       "    </tr>\n",
       "    <tr>\n",
       "      <th>4</th>\n",
       "      <td>TEST93908947ZA</td>\n",
       "      <td>ZJBALAM27065</td>\n",
       "      <td>1</td>\n",
       "    </tr>\n",
       "    <tr>\n",
       "      <th>...</th>\n",
       "      <td>...</td>\n",
       "      <td>...</td>\n",
       "      <td>...</td>\n",
       "    </tr>\n",
       "    <tr>\n",
       "      <th>506</th>\n",
       "      <td>TEST93818847ZA</td>\n",
       "      <td>ZJBR0CT17180</td>\n",
       "      <td>1</td>\n",
       "    </tr>\n",
       "    <tr>\n",
       "      <th>507</th>\n",
       "      <td>TEST93818847ZA</td>\n",
       "      <td>ZJBR0A454225</td>\n",
       "      <td>2</td>\n",
       "    </tr>\n",
       "    <tr>\n",
       "      <th>508</th>\n",
       "      <td>TEST93818847ZA</td>\n",
       "      <td>ZSPR4YW12990</td>\n",
       "      <td>1</td>\n",
       "    </tr>\n",
       "    <tr>\n",
       "      <th>509</th>\n",
       "      <td>TEST93818847ZA</td>\n",
       "      <td>ZSPR4BE27505</td>\n",
       "      <td>1</td>\n",
       "    </tr>\n",
       "    <tr>\n",
       "      <th>510</th>\n",
       "      <td>TEST93818847ZA</td>\n",
       "      <td>ZHP94PK14577</td>\n",
       "      <td>1</td>\n",
       "    </tr>\n",
       "  </tbody>\n",
       "</table>\n",
       "<p>511 rows × 3 columns</p>\n",
       "</div>"
      ],
      "text/plain": [
       "         Del_Number           SKU  Act_Goods_Issue_Qty_SKU\n",
       "0    TEST93904247ZA  ZCSCELS48323                        1\n",
       "1    TEST93908047ZA  ZSY265034845                        1\n",
       "2    TEST93908047ZA  ZINMAMA12962                        1\n",
       "3    TEST93908447ZA  ZRW720124768                        6\n",
       "4    TEST93908947ZA  ZJBALAM27065                        1\n",
       "..              ...           ...                      ...\n",
       "506  TEST93818847ZA  ZJBR0CT17180                        1\n",
       "507  TEST93818847ZA  ZJBR0A454225                        2\n",
       "508  TEST93818847ZA  ZSPR4YW12990                        1\n",
       "509  TEST93818847ZA  ZSPR4BE27505                        1\n",
       "510  TEST93818847ZA  ZHP94PK14577                        1\n",
       "\n",
       "[511 rows x 3 columns]"
      ]
     },
     "execution_count": 11,
     "metadata": {},
     "output_type": "execute_result"
    }
   ],
   "source": [
    "order_pool_ui(csv, next_day=True)[6]"
   ]
  },
  {
   "cell_type": "code",
   "execution_count": null,
   "id": "leading-classics",
   "metadata": {},
   "outputs": [],
   "source": []
  }
 ],
 "metadata": {
  "kernelspec": {
   "display_name": "Python 3",
   "language": "python",
   "name": "python3"
  },
  "language_info": {
   "codemirror_mode": {
    "name": "ipython",
    "version": 3
   },
   "file_extension": ".py",
   "mimetype": "text/x-python",
   "name": "python",
   "nbconvert_exporter": "python",
   "pygments_lexer": "ipython3",
   "version": "3.8.6"
  }
 },
 "nbformat": 4,
 "nbformat_minor": 5
}
